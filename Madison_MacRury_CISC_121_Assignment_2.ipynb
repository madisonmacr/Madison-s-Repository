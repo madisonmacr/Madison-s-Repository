{
  "cells": [
    {
      "cell_type": "markdown",
      "metadata": {
        "id": "view-in-github",
        "colab_type": "text"
      },
      "source": [
        "<a href=\"https://colab.research.google.com/github/madisonmacr/Madison-s-Repository/blob/main/Madison_MacRury_CISC_121_Assignment_2.ipynb\" target=\"_parent\"><img src=\"https://colab.research.google.com/assets/colab-badge.svg\" alt=\"Open In Colab\"/></a>"
      ]
    },
    {
      "cell_type": "markdown",
      "metadata": {
        "id": "MRScbkLTN3Mc"
      },
      "source": [
        "# **CISC 121 - Section 001 – Assignment 2**\n",
        "*Please copy this notebook to your own drive (File -> Save a copy in Drive) and work from there.*"
      ]
    },
    {
      "cell_type": "markdown",
      "metadata": {
        "id": "87bcdc76"
      },
      "source": [
        "## Part 1\n",
        "### Solve all the 3 problems following the template\n",
        "\n",
        "1. **Sum of Two Integers** — <https://leetcode.com/problems/sum-of-two-integers>\n",
        "2. **Convert Date to Binary** — <https://leetcode.com/problems/convert-date-to-binary>\n",
        "3. **Number of 1 Bits** — <https://leetcode.com/problems/number-of-1-bits>"
      ]
    },
    {
      "cell_type": "markdown",
      "metadata": {
        "id": "f960a31d"
      },
      "source": [
        "## Part 2\n",
        "### Solve 2 of the 3 problems from the followings following the given template\n",
        "\n",
        "1. **Reverse Integer** — <https://leetcode.com/problems/reverse-integer>\n",
        "2. **Reverse String** — <https://leetcode.com/problems/reverse-string>\n",
        "3. **Reverse Pairs** — <https://leetcode.com/problems/reverse-pairs>\n",
        "\n",
        "### Note: the problems are ordered by difficulty."
      ]
    },
    {
      "cell_type": "markdown",
      "metadata": {
        "id": "KGKqcY70N3Md"
      },
      "source": [
        "\n",
        "\n",
        "1. Your Name: Madison MacRury\n",
        "2. Section: CISC121 001\n",
        "3. ID: 24JSB2\n",
        "4. Github or Colab link of this notebook:\n"
      ]
    },
    {
      "cell_type": "markdown",
      "metadata": {
        "id": "creP6zY2Q96V"
      },
      "source": [
        "\n",
        "\n",
        "---\n",
        "\n"
      ]
    },
    {
      "cell_type": "markdown",
      "metadata": {
        "id": "rAwLuBzFZxf3"
      },
      "source": [
        "#  Problem 1 (DSA)\n",
        "\n",
        "\n"
      ]
    },
    {
      "cell_type": "markdown",
      "metadata": {
        "id": "r9EKMWjKIQP3"
      },
      "source": [
        "## 1. Understanding & Breakdown\n",
        "\n",
        "**AI Level 1** is allowed to understand the concept, but you need to sketch the problem down by yourself (Refer to the Syllabus for more details about AI use levels). **Must Provide AI Disclosures**\n",
        "\n",
        "\n",
        "### **Follow the below instruction according to the corresponding problem type**\n",
        "\n",
        "### **For both Parts (Both DSA & Recursion problems)**\n",
        "\n",
        "#### _Discuss the problem, using the pillars of Computation: Problem Decomposition, Pattern Recognition, Abstraction, and Algortihmic Thinking. For algorithmic thinking explain the inputs/outputs, constraints, and  draw the flowchart using digital or real pen-paper (For the flow chart only). Insert the image below._\n",
        "\n",
        "\n",
        "### **For Part 1 (Basic Data Structures and Algorithms Problems)**\n",
        "\n",
        "- For each, discuss:\n",
        "    - How are you dealing with variable datatypes?\n",
        "    - Which types of operations are being used and what for?\n",
        "    - Which Data collections (structures) are being used, and why? (comapre to others, e.g. lists, dictionaries, sets, tuples, etc.)\n",
        "    \n",
        "- Compare to the other two problems: which ideas generalize? where do they differ?\n",
        "    - Use abstraction and pattern recognition to find similarities\n",
        "    - Use problem decomposition and algortihmic tinking to identify differnces in term so the the solution\n",
        "\n",
        "\n",
        "### **For Part 2 (Recursion Problems)**\n",
        "\n",
        "- For each, discuss:\n",
        "    - What are the subproblems the recusrive function should solve?\n",
        "    - What the base case and recursive step should do?\n",
        "    - How the call stack will organize the recursive calls?\n",
        "    - Whether to use head, tail, parameterized, and/or functional recursion, and why?\n",
        "    - How are solutions to the subproblems to be combined?\n",
        "    \n",
        "- Compare to the other recursive problems  (similarities/differences)\n",
        "- Compare to an iterative solutions (e.g., how would a loop-based version differ?)\n",
        "- What needs to be changed for the recursive solution to become head/tail/parameterized/functional recursion\n",
        "\n",
        "\n",
        "\n",
        "\n",
        "\n",
        "**Your effort is more important than the accuracy for this section**\n",
        "\n",
        "Use the following markdown to provide your answer"
      ]
    },
    {
      "cell_type": "markdown",
      "metadata": {
        "id": "aUHzVrY4cTX0"
      },
      "source": [
        "## 2. Peer Review & Draft Code\n",
        "\n",
        "**Review Guidance:**  \n",
        "\n",
        "Visit the **\"Solutions\"** tab on LeetCode (the provided link above) for the selected problem and review at least one top-rated solution. You may also search for relevant discussions or Q&A threads on **Stack Overflow** or other forums to understand how others approached the problem.\n",
        "\n",
        "Then, write your own version based on what you understood. The goal is not to copy but to apply what you learned. Always include links to the resources you reviewed.\n",
        "\n",
        "---\n"
      ]
    },
    {
      "cell_type": "code",
      "execution_count": null,
      "metadata": {
        "id": "NPk65D2zciQV"
      },
      "outputs": [],
      "source": [
        "# Your draft code here (does not need to be fully correct)"
      ]
    },
    {
      "cell_type": "markdown",
      "metadata": {
        "id": "8R0ItLfmRKxp"
      },
      "source": [
        "---\n"
      ]
    },
    {
      "cell_type": "markdown",
      "metadata": {
        "id": "Om2fMRWLceyo"
      },
      "source": [
        "## 3. Final Correct Code\n",
        "\n",
        "_This version must pass all required test cases and handle edge cases correctly. Please provide screenshots from Leetcode_\n",
        "\n",
        "At this stage, you may:\n",
        "- Review solutions using AI tools (e.g., ChatGPT, GitHub Copilot) to add ***comments*** and error handeling, refine, improve, and if there are any, fix errors.\n",
        "    -   Tip: Use PROMPT and CoT methods\n",
        "- Refactor your draft to ensure accuracy, completeness, follow the Code Review checklist.\n",
        "\n",
        "### Don't forget to add comments!\n",
        "\n",
        " **AI Level 4 is allowed**, but you **must include a disclaimer** that clearly states what tools you used, how you used them, and for which part of the code.\n",
        "\n",
        "--------------"
      ]
    },
    {
      "cell_type": "code",
      "execution_count": null,
      "metadata": {
        "id": "CukQ_t3xcuDV"
      },
      "outputs": [],
      "source": [
        "# Final working solution\n",
        "# [AI Disclaimer example: Used ChatGPT with prompt “How to handle recursion base case” only for concept]\n"
      ]
    },
    {
      "cell_type": "markdown",
      "metadata": {
        "id": "n-a6rKrlUyQP"
      },
      "source": [
        "Add the screenshot of output for all the test cases from your working solutions."
      ]
    },
    {
      "cell_type": "markdown",
      "metadata": {
        "id": "CSVCLsPgROHs"
      },
      "source": [
        "---"
      ]
    },
    {
      "cell_type": "markdown",
      "metadata": {
        "id": "fJrDhzvMcxVN"
      },
      "source": [
        "## 4. Review & Fixes\n",
        "\n",
        "_What did you improve, optimize from your draft? 2 fixes with your comments._\n",
        "\n",
        "If there is no imporvments possible, please describe how the final version meets all the Code Review Checklist items\n",
        "\n",
        "-------\n",
        "\n"
      ]
    },
    {
      "cell_type": "code",
      "execution_count": null,
      "metadata": {
        "id": "tzEAjBgfMtod"
      },
      "outputs": [],
      "source": [
        "# Fix 1:\n",
        "\n",
        "# Draft version (e.g., manual and repetitive logic)\n",
        "\n",
        "# Fixed version (better structure, easier to understand, and more functional)\n"
      ]
    },
    {
      "cell_type": "code",
      "execution_count": null,
      "metadata": {
        "id": "ElfXHAqFMzQT"
      },
      "outputs": [],
      "source": [
        "# Fix 2:\n",
        "\n",
        "# Draft version:\n",
        "\n",
        "\n",
        "# Fixed version:\n"
      ]
    },
    {
      "cell_type": "markdown",
      "metadata": {
        "id": "9RoAwjXsRPvQ"
      },
      "source": [
        "---"
      ]
    },
    {
      "cell_type": "markdown",
      "metadata": {
        "id": "QfK-i2ITc4MU"
      },
      "source": [
        "\n",
        "## 5. Reflection on Your Contribution\n",
        "_Where did AI or Other's code helped or fail to help? What specific logic or debugging did you contribute yourself?_\n",
        "\n",
        "## Example\n",
        "1. I used ChatGPT (Level 4) to help identify an edge case where my draft code failed when the input string started with a closing bracket. I also used ChatGPT to help structure the final loop and mapping dictionary, but verified all logic myself by tracing the code.\n",
        "\n",
        "2.  I used ChatGPT to help write the loop. But the code had an indentation error after the `if` block, which caused it to fail. I fixed the spacing and made sure the code runs correctly.\n",
        "\n",
        "3. I used opensource code from Github. I found and fixed a logic bug where they used if s[i] == '(' or ')', which always returned True. I corrected it to properly check both conditions.\n"
      ]
    },
    {
      "cell_type": "markdown",
      "metadata": {
        "id": "USwRg1coc-BO"
      },
      "source": [
        "#  Repeat this template for Problems 2–5\n",
        "You may copy-paste the above section 4 more times or duplicate cells in your notebook environment.\n",
        "\n",
        "Remember:\n",
        "Proper attribution  \n",
        "No copy-pasting from AI or others\n",
        "\n",
        "--------\n",
        "\n",
        "\n"
      ]
    },
    {
      "cell_type": "markdown",
      "metadata": {
        "id": "AxxCiuXlBfSj"
      },
      "source": [
        "## Your answer:\n",
        "\n",
        "------"
      ]
    },
    {
      "cell_type": "markdown",
      "metadata": {
        "id": "xJk7l_CmRSQ9"
      },
      "source": [
        "->\n",
        "\n",
        "#Problem 1: Sum of Two Integers\n"
      ]
    },
    {
      "cell_type": "markdown",
      "source": [
        "#Understanding and Breakdown:\n",
        "\n",
        "\n",
        "Problem: Compute the sum of two integers a and b without using the + or - operators.\n",
        "\n",
        "Input: Two integers, a and b\n",
        "Output: A single integer, the sum of a and b\n",
        "\n",
        "Constriants: -1000 <= a, b <= 1000\n",
        "\n",
        "Plan:\n",
        "1. Since the + and - operators cannot be used, use bitwise operations to simulate addition:\n",
        "- the XOR (^) operator gives the sum of bits without carrying\n",
        "the AND (&) operator identifies carry bits (where both bits are 1)\n",
        "- the carry is then shifted left by one position (<<1) because it affects the next higher bit\n",
        "2. Repeat this process until there is no carry left:\n",
        "- temporarily store the partial sum using a^b\n",
        "- compute the carry using (a&b)<<1\n",
        "- assign a to the new partial sum and b to the carry\n",
        "3. When b becomes 0 (no carry left), a will hold the final sum\n",
        "4. Return a\n"
      ],
      "metadata": {
        "id": "YDjxl54bXpT3"
      }
    },
    {
      "cell_type": "markdown",
      "source": [
        "\n",
        "- **How are you dealing with variable datatypes?**\n",
        "\n",
        "Both a and b are integers, and all operations in this algorithm are performed directly on their binary representations. Since integers naturally support bitwise manipulation, there's no need for any data type conversion or use of floating point numbers.\n",
        "\n",
        "- **Which types of operations are being used and what for?**\n",
        "\n",
        "Since the solution cannot use arithmetic operators (+/-), it is built entirely on bitwise logic:\n",
        "  >- XOR(^): adds bits without carry (example: 1^1 = 0, 1^0 = 1)\n",
        "  >- AND(&): finds bits that both have a 1, which indicates a carry (example: 1&1=1)\n",
        "  >- Left shift(<<1): moves the carry to the next higher bit position\n",
        "  >- Assignment(=): used to update values in the iterative process (a=sum, b=carry)\n",
        "  >- Looping(while): repeats until no carry remains\n",
        "\n",
        "- **Which Data collections (structures) are being used, and why? (compare to others, e.g. lists, dictionaries, sets, tuples, etc.)**\n",
        "\n",
        "The algorithm does not use advanced data structures, only basic integer variables. Using collections like lists, dictionairies, sets, or tuples would be unnecessary because the operation only involves two values being updated repeatedly.\n",
        "\n",
        "- **Compare to the other two problems: which ideas generalize? where do they differ?**\n",
        "\n",
        ">- Use abstraction and pattern recognition to find similarities\n",
        "\n",
        ">- Use problem decomposition and algorithmic thinking to identify differences in terms of the solution\n",
        "\n",
        "This problem (similar to the others) considers numbers at the bit level. It also utilizes problem decomposition, breaking addition into bitwise sum and carry. However, it differs in that it relies entirely on bitwise arithmetic, rather than string manipulation or iteration over binary strings. (rather than considering or returning the bit form, bitwise operations are used instead to similate addition, only bitwise logic is used, not actual consideration to bitwise representations of integers as in the other problems)"
      ],
      "metadata": {
        "id": "i3TkO_-LZPVv"
      }
    },
    {
      "cell_type": "markdown",
      "source": [
        "#Peer Review and Draft Code:\n",
        "\n",
        "I reviewed the following attached top solution on LeetCode: https://leetcode.com/problems/sum-of-two-integers/solutions/6638421/conquer-addition-without-plus-using-bitwise-magic/\n",
        "\n",
        "- I learned that we can add two integers without using + or - by using bitwise operations (XOR (^) and AND(&))\n",
        "- Using this idea I wrote an algorithm that utlilizes these operations and bitwise logic to find and return the sum of two integers."
      ],
      "metadata": {
        "id": "-2ogusxjZb_G"
      }
    },
    {
      "cell_type": "code",
      "source": [
        "#Draft Code\n",
        "\n",
        "def getSum(a,b)\n",
        "  if b == 0:\n",
        "    return a\n",
        "  else:\n",
        "    sum = a^b\n",
        "    carry = (a&b)<<1\n",
        "    a = sum\n",
        "    b = carry\n",
        "  return a\n"
      ],
      "metadata": {
        "colab": {
          "base_uri": "https://localhost:8080/",
          "height": 105
        },
        "id": "6Wed0fxvaa2S",
        "outputId": "ea22b020-aba3-421a-84f2-06ce75198a42"
      },
      "execution_count": 1,
      "outputs": [
        {
          "output_type": "error",
          "ename": "SyntaxError",
          "evalue": "expected ':' (ipython-input-2168332295.py, line 3)",
          "traceback": [
            "\u001b[0;36m  File \u001b[0;32m\"/tmp/ipython-input-2168332295.py\"\u001b[0;36m, line \u001b[0;32m3\u001b[0m\n\u001b[0;31m    def getSum(a,b)\u001b[0m\n\u001b[0m                   ^\u001b[0m\n\u001b[0;31mSyntaxError\u001b[0m\u001b[0;31m:\u001b[0m expected ':'\n"
          ]
        }
      ]
    },
    {
      "cell_type": "markdown",
      "source": [
        "#Final Correct Code"
      ],
      "metadata": {
        "id": "VA6luIQKZKeY"
      }
    },
    {
      "cell_type": "code",
      "source": [
        "#Final Working Solution\n",
        "#AI Disclaimer: Used ChatGPT with prompt: \"Explain how to use bitwise operations to add two integers\" only to understand logic and correct errors.\n",
        "\n",
        "def getSum(a,b):\n",
        "  if not (-1000 <= a) or not (b <= 1000):\n",
        "    raise ValueError(\"Input values are out of range\")\n",
        "  while b!=0:\n",
        "    partialsum = a^b\n",
        "    carry = (a&b)<<1\n",
        "    a = partialsum\n",
        "    b = carry\n",
        "  return a"
      ],
      "metadata": {
        "id": "88u96dqOZMdQ"
      },
      "execution_count": 7,
      "outputs": []
    },
    {
      "cell_type": "code",
      "source": [
        "#Test 1\n",
        "\n",
        "getSum(1,2)"
      ],
      "metadata": {
        "colab": {
          "base_uri": "https://localhost:8080/"
        },
        "id": "jgCoPAI_ageA",
        "outputId": "8fc9458e-8713-4e08-c620-c34619935e65"
      },
      "execution_count": 3,
      "outputs": [
        {
          "output_type": "execute_result",
          "data": {
            "text/plain": [
              "3"
            ]
          },
          "metadata": {},
          "execution_count": 3
        }
      ]
    },
    {
      "cell_type": "code",
      "source": [
        "#Test 2\n",
        "\n",
        "getSum(10,14)"
      ],
      "metadata": {
        "colab": {
          "base_uri": "https://localhost:8080/"
        },
        "id": "Gapysan0ajny",
        "outputId": "41000d6b-66a1-4a66-dba4-d55947db1eb2"
      },
      "execution_count": 4,
      "outputs": [
        {
          "output_type": "execute_result",
          "data": {
            "text/plain": [
              "24"
            ]
          },
          "metadata": {},
          "execution_count": 4
        }
      ]
    },
    {
      "cell_type": "code",
      "source": [
        "#Test 3\n",
        "\n",
        "getSum(2002034522,5069432222)"
      ],
      "metadata": {
        "colab": {
          "base_uri": "https://localhost:8080/",
          "height": 326
        },
        "id": "U3W2fIGhgHpT",
        "outputId": "566daefb-4aa2-47bb-bc6c-43bf1bd76910"
      },
      "execution_count": 8,
      "outputs": [
        {
          "output_type": "error",
          "ename": "ValueError",
          "evalue": "Input values are out of range",
          "traceback": [
            "\u001b[0;31m---------------------------------------------------------------------------\u001b[0m",
            "\u001b[0;31mValueError\u001b[0m                                Traceback (most recent call last)",
            "\u001b[0;32m/tmp/ipython-input-3474826371.py\u001b[0m in \u001b[0;36m<cell line: 0>\u001b[0;34m()\u001b[0m\n\u001b[1;32m      1\u001b[0m \u001b[0;31m#Test 3\u001b[0m\u001b[0;34m\u001b[0m\u001b[0;34m\u001b[0m\u001b[0m\n\u001b[1;32m      2\u001b[0m \u001b[0;34m\u001b[0m\u001b[0m\n\u001b[0;32m----> 3\u001b[0;31m \u001b[0mgetSum\u001b[0m\u001b[0;34m(\u001b[0m\u001b[0;36m2002034522\u001b[0m\u001b[0;34m,\u001b[0m\u001b[0;36m5069432222\u001b[0m\u001b[0;34m)\u001b[0m\u001b[0;34m\u001b[0m\u001b[0;34m\u001b[0m\u001b[0m\n\u001b[0m",
            "\u001b[0;32m/tmp/ipython-input-940249111.py\u001b[0m in \u001b[0;36mgetSum\u001b[0;34m(a, b)\u001b[0m\n\u001b[1;32m      4\u001b[0m \u001b[0;32mdef\u001b[0m \u001b[0mgetSum\u001b[0m\u001b[0;34m(\u001b[0m\u001b[0ma\u001b[0m\u001b[0;34m,\u001b[0m\u001b[0mb\u001b[0m\u001b[0;34m)\u001b[0m\u001b[0;34m:\u001b[0m\u001b[0;34m\u001b[0m\u001b[0;34m\u001b[0m\u001b[0m\n\u001b[1;32m      5\u001b[0m   \u001b[0;32mif\u001b[0m \u001b[0;32mnot\u001b[0m \u001b[0;34m(\u001b[0m\u001b[0;34m-\u001b[0m\u001b[0;36m1000\u001b[0m \u001b[0;34m<=\u001b[0m \u001b[0ma\u001b[0m\u001b[0;34m)\u001b[0m \u001b[0;32mor\u001b[0m \u001b[0;32mnot\u001b[0m \u001b[0;34m(\u001b[0m\u001b[0mb\u001b[0m \u001b[0;34m<=\u001b[0m \u001b[0;36m1000\u001b[0m\u001b[0;34m)\u001b[0m\u001b[0;34m:\u001b[0m\u001b[0;34m\u001b[0m\u001b[0;34m\u001b[0m\u001b[0m\n\u001b[0;32m----> 6\u001b[0;31m     \u001b[0;32mraise\u001b[0m \u001b[0mValueError\u001b[0m\u001b[0;34m(\u001b[0m\u001b[0;34m\"Input values are out of range\"\u001b[0m\u001b[0;34m)\u001b[0m\u001b[0;34m\u001b[0m\u001b[0;34m\u001b[0m\u001b[0m\n\u001b[0m\u001b[1;32m      7\u001b[0m   \u001b[0;32mwhile\u001b[0m \u001b[0mb\u001b[0m\u001b[0;34m!=\u001b[0m\u001b[0;36m0\u001b[0m\u001b[0;34m:\u001b[0m\u001b[0;34m\u001b[0m\u001b[0;34m\u001b[0m\u001b[0m\n\u001b[1;32m      8\u001b[0m     \u001b[0mpartialsum\u001b[0m \u001b[0;34m=\u001b[0m \u001b[0ma\u001b[0m\u001b[0;34m^\u001b[0m\u001b[0mb\u001b[0m\u001b[0;34m\u001b[0m\u001b[0;34m\u001b[0m\u001b[0m\n",
            "\u001b[0;31mValueError\u001b[0m: Input values are out of range"
          ]
        }
      ]
    },
    {
      "cell_type": "code",
      "source": [
        "#Test 4\n",
        "\n",
        "getSum(0,1)"
      ],
      "metadata": {
        "colab": {
          "base_uri": "https://localhost:8080/"
        },
        "id": "SSsntMVIhop4",
        "outputId": "fa336da4-d36b-4b6e-a0aa-89eae002a72c"
      },
      "execution_count": 9,
      "outputs": [
        {
          "output_type": "execute_result",
          "data": {
            "text/plain": [
              "1"
            ]
          },
          "metadata": {},
          "execution_count": 9
        }
      ]
    },
    {
      "cell_type": "markdown",
      "source": [
        "#Review & Fixes"
      ],
      "metadata": {
        "id": "hb_C1f1WaoDC"
      }
    },
    {
      "cell_type": "code",
      "source": [
        "#Fix 1: Added missing colon after function definition\n",
        "\n",
        "#Draft Version\n",
        "def getSum(a,b)\n",
        "\n",
        "#Correct Version\n",
        "def getSum(a,b):\n",
        "\n",
        "#Comment: Python syntax requires a colon at the end of function definitions."
      ],
      "metadata": {
        "id": "6T_nVVjeapgg"
      },
      "execution_count": null,
      "outputs": []
    },
    {
      "cell_type": "code",
      "source": [
        "#Fix 2: Replaced if/else blocks with a while loop\n",
        "\n",
        "#Draft Version\n",
        " def getSum(a,b)\n",
        "  if b == 0:\n",
        "    return a\n",
        "  else:\n",
        "    sum = a^b\n",
        "    carry = (a&b)<<1\n",
        "    a = sum\n",
        "    b = carry\n",
        "  return a\n",
        "\n",
        "#Correct Version\n",
        "def getSum(a,b):\n",
        "  while b!=0:\n",
        "\n",
        "#Comment: The original code only computed one iteration.\n",
        "##Using a while loop repeats addition until there are no more carry bits."
      ],
      "metadata": {
        "id": "XsHv8NDAbYud"
      },
      "execution_count": null,
      "outputs": []
    },
    {
      "cell_type": "code",
      "source": [
        "#Fix 3: Renamed variable sum to partialsum\n",
        "\n",
        "#Draft Version\n",
        "sum = a^b\n",
        "\n",
        "#Correct Version\n",
        "partialsum = a^b\n",
        "\n",
        "#Comment: 'sum' is a built-in function. Renamed to 'partialsum' to avoid shadowing the built-in and improve code clarity."
      ],
      "metadata": {
        "id": "R1jM5AiNb9J1"
      },
      "execution_count": null,
      "outputs": []
    },
    {
      "cell_type": "code",
      "source": [
        "#Fix 4: Included an if statement at the start to check whether a and b are within range to satisy problem constraints.\n",
        "\n",
        "#Draft Version\n",
        " def getSum(a,b)\n",
        "  if b == 0:\n",
        "    return a\n",
        "  else:\n",
        "    sum = a^b\n",
        "    carry = (a&b)<<1\n",
        "    a = sum\n",
        "    b = carry\n",
        "  return a\n",
        "\n",
        "#Correct Version\n",
        "def getSum(a,b):\n",
        "  if not (-1000 <= a) or not (b <= 1000):\n",
        "    raise ValueError(\"Input values are out of range\")\n",
        "  while b!=0:\n",
        "    partialsum = a^b\n",
        "    carry = (a&b)<<1\n",
        "    a = partialsum\n",
        "    b = carry\n",
        "  return a"
      ],
      "metadata": {
        "id": "vNHPeJ70g5ad"
      },
      "execution_count": null,
      "outputs": []
    },
    {
      "cell_type": "markdown",
      "source": [
        "#Reflection on your Contribution\n",
        "\n",
        "1. ChatGPT helped me understand how bitwise operations can simulate addiiton, separating partial sums from carries.\n",
        "2. I revisited the draft to use a while loop and clearer variable names, ensuring the code correctly handles all carry scenarios and improves readability.\n",
        "3. I tested multiple vaues of a and b, including values within and outside the constraints, verifying correct sums for valid inputs and proper error handling for invalid ones."
      ],
      "metadata": {
        "id": "rG8SUEIGcbnz"
      }
    },
    {
      "cell_type": "markdown",
      "metadata": {
        "id": "w2X7eha_N3Mg"
      },
      "source": [
        "-----------"
      ]
    },
    {
      "cell_type": "markdown",
      "source": [
        "# Problem 2 (DSA): Convert Date to Binary\n",
        "----------"
      ],
      "metadata": {
        "id": "RVrlqim8SoDS"
      }
    },
    {
      "cell_type": "markdown",
      "source": [
        "#Understanding and Breakdown\n",
        "\n",
        "Problem: Given a string 'date' representing a calendar date, return the binary representation of the inputted date.\n",
        "\n",
        "Input: a string date in the formal 'yyyy-mm-dd'\n",
        "- example: 2025-10-15\n",
        "\n",
        "Output: a string where:\n",
        "- year, month, and day are repleced with their binary representations (without leading zeroes)\n",
        "- components are separated by '-'\n",
        ">- example: 11111100101-1010-1111\n",
        "\n",
        "Constraints:\n",
        "- date.length == 10 (length of the input date must be 10 characters long)\n",
        "- date[4] == date[7] == '-', and all other characters are digits\n",
        "- date represents a valid Gregorian date between Jan 1,1900 and Dec 31, 2100 (inclusive)\n",
        "\n",
        "Plan:\n",
        "1. Parse the input string: split the string by '-' to extract year, month, and dat\n",
        "2. Convert each component to binary: convert year, month, and day first to integers, and then to binary\n",
        "3. Format the output: combine binary representations with '-'\n",
        "4. Return the result as a string"
      ],
      "metadata": {
        "id": "IPV3_IHIh3Wb"
      }
    },
    {
      "cell_type": "markdown",
      "source": [
        "\n",
        "- **How are you dealing with variable datatypes?**\n",
        "\n",
        "The input is a string which is split into three resultant strings (year, month, day) which are then converted into integers which are then converted into binary strings. (No floating-point numbers involved)\n",
        "\n",
        "- **Which types of operations are being used and what for?**\n",
        "\n",
        "  >- split('-'): separates the date into year, month, and day since they are separated by an '-' already in the input string\n",
        "  >- int(): convert string into integer value\n",
        "  >- bin() and slicing [2:] to convert integers into binary strings and remove the '0b' prefix\n",
        "  >- conditional checks (if) to validate the date format and ensure integers fall in acceptable ranges (as indicated by problem constraints)\n",
        "\n",
        "- **Which Data collections (structures) are being used, and why? (compare to others, e.g. lists, dictionaries, sets, tuples, etc.)**\n",
        "\n",
        "A list is used to hold the split parts of the date (year, month, day), which allows easy access to components through indexing. After conversion, each component is stored in a separate variable. More advanced structures like dictionaries or tuples are unnecessary because only three elements are being processed sequentially.\n",
        "\n",
        "- **Compare to the other two problems: which ideas generalize? where do they differ?**\n",
        "\n",
        ">- Use abstraction and pattern recognition to find similarities\n",
        "\n",
        ">- Use problem decomposition and algorithmic thinking to identify differences in terms of the solution\n",
        "\n",
        "This problem generalizes the idea of converting data into binary, similar to the number of 1 bits problem. It also uses problem decomposition, breaking the date string into components, validating them, and converting them. It differs in that it requires string manipulation and list usage, rather than iteration over bits or bitwise arithmetic."
      ],
      "metadata": {
        "id": "rTiYIBRFw-fT"
      }
    },
    {
      "cell_type": "markdown",
      "source": [
        "#Peer Review and Draft Code\n",
        "\n",
        "I reviewed the following top solution on LeetCode: https://leetcode.com/problems/convert-date-to-binary/solutions/5753345/python3-parse-convert-to-binary-join/\n",
        "- I learned that parsing the date into components, converting each to binary, and then joining them into a formatted string is an efficient approach."
      ],
      "metadata": {
        "id": "_TfL_3zRh_Ft"
      }
    },
    {
      "cell_type": "code",
      "source": [
        "#Draft Code\n",
        "\n",
        "def DateToBinary(date):\n",
        "\n",
        "  date = date.split()\n",
        "\n",
        "  year = int(date[0])\n",
        "  month = int(date[1])\n",
        "  day = int(date[2])\n",
        "\n",
        "  year.bin = bin(year)\n",
        "  month.bin = bin(month)\n",
        "  day.bin = bin(day)\n",
        "\n",
        "  date.bin = (year.bin, month.bin, day.bin)\n",
        "\n",
        "  return date.bin\n",
        "\n",
        "  if len(date) != 10:\n",
        "  raise ValueError(\"Invalid date format\")\n",
        "\n"
      ],
      "metadata": {
        "colab": {
          "base_uri": "https://localhost:8080/",
          "height": 122
        },
        "id": "WETJm_YepA5T",
        "outputId": "beb15387-8fc6-414c-bb6d-e114c6aa7484"
      },
      "execution_count": 11,
      "outputs": [
        {
          "output_type": "error",
          "ename": "IndentationError",
          "evalue": "expected an indented block after 'if' statement on line 18 (ipython-input-1480583007.py, line 19)",
          "traceback": [
            "\u001b[0;36m  File \u001b[0;32m\"/tmp/ipython-input-1480583007.py\"\u001b[0;36m, line \u001b[0;32m19\u001b[0m\n\u001b[0;31m    raise ValueError(\"Invalid date format\")\u001b[0m\n\u001b[0m    ^\u001b[0m\n\u001b[0;31mIndentationError\u001b[0m\u001b[0;31m:\u001b[0m expected an indented block after 'if' statement on line 18\n"
          ]
        }
      ]
    },
    {
      "cell_type": "markdown",
      "source": [
        "#Final Correct Code"
      ],
      "metadata": {
        "id": "fxqzSOhZiCyj"
      }
    },
    {
      "cell_type": "code",
      "source": [
        "#Final Correct Code\n",
        "# [AI Disclaimer: Used ChatGPT with prompt \"Explain logic on removing '0b' prefix from binary output, without providing full code\", only for understanding of approach]\n",
        "\n",
        "def DateToBinary(date):\n",
        "  if len(date) != 10:\n",
        "    raise ValueError(\"Invalid date format\")\n",
        "  if date [4] != '-' or date [7] != '-':\n",
        "    raise ValueError(\"Invalid date format\")\n",
        "\n",
        "  parts = date.split('-')\n",
        "  year = int(parts[0])\n",
        "  month = int(parts[1])\n",
        "  day = int(parts[2])\n",
        "\n",
        "  if not (1900 <= year <= 2100):\n",
        "    raise ValueError (\"Year out of range\")\n",
        "  if not (1 <= month <=12):\n",
        "    raise ValueError (\"Month out of range\")\n",
        "  if not (1<=day<=31):\n",
        "    raise ValueError(\"Day out of range\")\n",
        "\n",
        "  year_bin = bin(year)[2:]\n",
        "  month_bin = bin(month)[2:]\n",
        "  day_bin = bin(day)[2:]\n",
        "\n",
        "  return f\"{year_bin}-{month_bin}-{day_bin}\""
      ],
      "metadata": {
        "id": "-rePdFBriFCf"
      },
      "execution_count": 19,
      "outputs": []
    },
    {
      "cell_type": "code",
      "source": [
        "#Test 1\n",
        "DateToBinary(\"2025-10-15\")"
      ],
      "metadata": {
        "colab": {
          "base_uri": "https://localhost:8080/",
          "height": 35
        },
        "id": "oAMnwc1RrXZ4",
        "outputId": "6dd542e7-5002-4da4-88a9-1b58dc8eb7f0"
      },
      "execution_count": 20,
      "outputs": [
        {
          "output_type": "execute_result",
          "data": {
            "text/plain": [
              "'11111101001-1010-1111'"
            ],
            "application/vnd.google.colaboratory.intrinsic+json": {
              "type": "string"
            }
          },
          "metadata": {},
          "execution_count": 20
        }
      ]
    },
    {
      "cell_type": "code",
      "source": [
        "#Test 2\n",
        "DateToBinary(\"2222-3-31\")"
      ],
      "metadata": {
        "colab": {
          "base_uri": "https://localhost:8080/",
          "height": 309
        },
        "id": "PUUH-YAUr2UQ",
        "outputId": "5c97e598-90d9-46d3-b037-7619d85ac27a"
      },
      "execution_count": 21,
      "outputs": [
        {
          "output_type": "error",
          "ename": "ValueError",
          "evalue": "Invalid date format",
          "traceback": [
            "\u001b[0;31m---------------------------------------------------------------------------\u001b[0m",
            "\u001b[0;31mValueError\u001b[0m                                Traceback (most recent call last)",
            "\u001b[0;32m/tmp/ipython-input-539654222.py\u001b[0m in \u001b[0;36m<cell line: 0>\u001b[0;34m()\u001b[0m\n\u001b[1;32m      1\u001b[0m \u001b[0;31m#Test 2\u001b[0m\u001b[0;34m\u001b[0m\u001b[0;34m\u001b[0m\u001b[0m\n\u001b[0;32m----> 2\u001b[0;31m \u001b[0mDateToBinary\u001b[0m\u001b[0;34m(\u001b[0m\u001b[0;34m\"2222-3-31\"\u001b[0m\u001b[0;34m)\u001b[0m\u001b[0;34m\u001b[0m\u001b[0;34m\u001b[0m\u001b[0m\n\u001b[0m",
            "\u001b[0;32m/tmp/ipython-input-900199981.py\u001b[0m in \u001b[0;36mDateToBinary\u001b[0;34m(date)\u001b[0m\n\u001b[1;32m      1\u001b[0m \u001b[0;32mdef\u001b[0m \u001b[0mDateToBinary\u001b[0m\u001b[0;34m(\u001b[0m\u001b[0mdate\u001b[0m\u001b[0;34m)\u001b[0m\u001b[0;34m:\u001b[0m\u001b[0;34m\u001b[0m\u001b[0;34m\u001b[0m\u001b[0m\n\u001b[1;32m      2\u001b[0m   \u001b[0;32mif\u001b[0m \u001b[0mlen\u001b[0m\u001b[0;34m(\u001b[0m\u001b[0mdate\u001b[0m\u001b[0;34m)\u001b[0m \u001b[0;34m!=\u001b[0m \u001b[0;36m10\u001b[0m\u001b[0;34m:\u001b[0m\u001b[0;34m\u001b[0m\u001b[0;34m\u001b[0m\u001b[0m\n\u001b[0;32m----> 3\u001b[0;31m     \u001b[0;32mraise\u001b[0m \u001b[0mValueError\u001b[0m\u001b[0;34m(\u001b[0m\u001b[0;34m\"Invalid date format\"\u001b[0m\u001b[0;34m)\u001b[0m\u001b[0;34m\u001b[0m\u001b[0;34m\u001b[0m\u001b[0m\n\u001b[0m\u001b[1;32m      4\u001b[0m   \u001b[0;32mif\u001b[0m \u001b[0mdate\u001b[0m \u001b[0;34m[\u001b[0m\u001b[0;36m4\u001b[0m\u001b[0;34m]\u001b[0m \u001b[0;34m!=\u001b[0m \u001b[0;34m'-'\u001b[0m \u001b[0;32mor\u001b[0m \u001b[0mdate\u001b[0m \u001b[0;34m[\u001b[0m\u001b[0;36m7\u001b[0m\u001b[0;34m]\u001b[0m \u001b[0;34m!=\u001b[0m \u001b[0;34m'-'\u001b[0m\u001b[0;34m:\u001b[0m\u001b[0;34m\u001b[0m\u001b[0;34m\u001b[0m\u001b[0m\n\u001b[1;32m      5\u001b[0m     \u001b[0;32mraise\u001b[0m \u001b[0mValueError\u001b[0m\u001b[0;34m(\u001b[0m\u001b[0;34m\"Invalid date format\"\u001b[0m\u001b[0;34m)\u001b[0m\u001b[0;34m\u001b[0m\u001b[0;34m\u001b[0m\u001b[0m\n",
            "\u001b[0;31mValueError\u001b[0m: Invalid date format"
          ]
        }
      ]
    },
    {
      "cell_type": "code",
      "source": [
        "DateToBinary(\"1900-1-1\")"
      ],
      "metadata": {
        "colab": {
          "base_uri": "https://localhost:8080/",
          "height": 292
        },
        "id": "uHkAOkhSr8z5",
        "outputId": "150a0283-9b29-4c7b-8129-98a3eadc377e"
      },
      "execution_count": 22,
      "outputs": [
        {
          "output_type": "error",
          "ename": "ValueError",
          "evalue": "Invalid date format",
          "traceback": [
            "\u001b[0;31m---------------------------------------------------------------------------\u001b[0m",
            "\u001b[0;31mValueError\u001b[0m                                Traceback (most recent call last)",
            "\u001b[0;32m/tmp/ipython-input-1586157483.py\u001b[0m in \u001b[0;36m<cell line: 0>\u001b[0;34m()\u001b[0m\n\u001b[0;32m----> 1\u001b[0;31m \u001b[0mDateToBinary\u001b[0m\u001b[0;34m(\u001b[0m\u001b[0;34m\"1900-1-1\"\u001b[0m\u001b[0;34m)\u001b[0m\u001b[0;34m\u001b[0m\u001b[0;34m\u001b[0m\u001b[0m\n\u001b[0m",
            "\u001b[0;32m/tmp/ipython-input-900199981.py\u001b[0m in \u001b[0;36mDateToBinary\u001b[0;34m(date)\u001b[0m\n\u001b[1;32m      1\u001b[0m \u001b[0;32mdef\u001b[0m \u001b[0mDateToBinary\u001b[0m\u001b[0;34m(\u001b[0m\u001b[0mdate\u001b[0m\u001b[0;34m)\u001b[0m\u001b[0;34m:\u001b[0m\u001b[0;34m\u001b[0m\u001b[0;34m\u001b[0m\u001b[0m\n\u001b[1;32m      2\u001b[0m   \u001b[0;32mif\u001b[0m \u001b[0mlen\u001b[0m\u001b[0;34m(\u001b[0m\u001b[0mdate\u001b[0m\u001b[0;34m)\u001b[0m \u001b[0;34m!=\u001b[0m \u001b[0;36m10\u001b[0m\u001b[0;34m:\u001b[0m\u001b[0;34m\u001b[0m\u001b[0;34m\u001b[0m\u001b[0m\n\u001b[0;32m----> 3\u001b[0;31m     \u001b[0;32mraise\u001b[0m \u001b[0mValueError\u001b[0m\u001b[0;34m(\u001b[0m\u001b[0;34m\"Invalid date format\"\u001b[0m\u001b[0;34m)\u001b[0m\u001b[0;34m\u001b[0m\u001b[0;34m\u001b[0m\u001b[0m\n\u001b[0m\u001b[1;32m      4\u001b[0m   \u001b[0;32mif\u001b[0m \u001b[0mdate\u001b[0m \u001b[0;34m[\u001b[0m\u001b[0;36m4\u001b[0m\u001b[0;34m]\u001b[0m \u001b[0;34m!=\u001b[0m \u001b[0;34m'-'\u001b[0m \u001b[0;32mor\u001b[0m \u001b[0mdate\u001b[0m \u001b[0;34m[\u001b[0m\u001b[0;36m7\u001b[0m\u001b[0;34m]\u001b[0m \u001b[0;34m!=\u001b[0m \u001b[0;34m'-'\u001b[0m\u001b[0;34m:\u001b[0m\u001b[0;34m\u001b[0m\u001b[0;34m\u001b[0m\u001b[0m\n\u001b[1;32m      5\u001b[0m     \u001b[0;32mraise\u001b[0m \u001b[0mValueError\u001b[0m\u001b[0;34m(\u001b[0m\u001b[0;34m\"Invalid date format\"\u001b[0m\u001b[0;34m)\u001b[0m\u001b[0;34m\u001b[0m\u001b[0;34m\u001b[0m\u001b[0m\n",
            "\u001b[0;31mValueError\u001b[0m: Invalid date format"
          ]
        }
      ]
    },
    {
      "cell_type": "code",
      "source": [
        "DateToBinary(\"2100-12-31\")"
      ],
      "metadata": {
        "colab": {
          "base_uri": "https://localhost:8080/",
          "height": 35
        },
        "id": "ZggCzFA0sA0b",
        "outputId": "bf9d9d49-3de1-4d1e-c6e4-ed5d82047cc9"
      },
      "execution_count": 23,
      "outputs": [
        {
          "output_type": "execute_result",
          "data": {
            "text/plain": [
              "'100000110100-1100-11111'"
            ],
            "application/vnd.google.colaboratory.intrinsic+json": {
              "type": "string"
            }
          },
          "metadata": {},
          "execution_count": 23
        }
      ]
    },
    {
      "cell_type": "markdown",
      "source": [
        "#Review & Fixes"
      ],
      "metadata": {
        "id": "kuEabGl5iFiC"
      }
    },
    {
      "cell_type": "code",
      "source": [
        "#Fix 1: Corrected split method to use '-' instead of whitespace\n",
        "\n",
        "#Draft Version\n",
        "date = date.split()\n",
        "\n",
        "#Correct Version\n",
        "parts = date.split('-')\n",
        "\n",
        "#Comment: The draft split the string on whitespace, which does not separate year, month, and day correctly"
      ],
      "metadata": {
        "id": "ngPK8LGJsEbH"
      },
      "execution_count": null,
      "outputs": []
    },
    {
      "cell_type": "code",
      "source": [
        "#Fix 2: Removed invalid attribute assignments\n",
        "\n",
        "#Draft Version\n",
        "year.bin = bin(year)\n",
        "month.bin = bin(month)\n",
        "day.bin = bin(day)\n",
        "\n",
        "#Correct Version\n",
        "year_bin = bin(year)[2:]\n",
        "month_bin = bin(month)[2:]\n",
        "day_bin = bin(day)[2:]\n",
        "\n",
        "#Comment: Integers cannot have attributes."
      ],
      "metadata": {
        "id": "Tvwo4dx-sqVc"
      },
      "execution_count": null,
      "outputs": []
    },
    {
      "cell_type": "code",
      "source": [
        "#Fix 3: Removed the '0b' prefix from binary conversion\n",
        "\n",
        "#Draft Version\n",
        "year.bin = bin(year)\n",
        "month.bin = bin(month)\n",
        "day.bin = bin(day)\n",
        "\n",
        "#Correct Version\n",
        "year_bin = bin(year)[2:]\n",
        "month_bin = bin(month)[2:]\n",
        "day_bin = bin(day)[2:]\n",
        "\n",
        "#Comment: bin() returns a string starting with '0b'.\n",
        "##Using slicing '[2:]' removes the first two characters to keep only binary digits.\n"
      ],
      "metadata": {
        "id": "Ithv84PLIBeg"
      },
      "execution_count": null,
      "outputs": []
    },
    {
      "cell_type": "code",
      "source": [
        "#Fix 4: Changed tuple return to formatted string\n",
        "\n",
        "#Draft Version\n",
        "date.bin = (year.bin, month.bin, day.bin)\n",
        "\n",
        "#Correct Version\n",
        "return f\"{year_bin}-{month_bin}-{day_bin}\"\n",
        "\n",
        "#Comment: The problem requires a string in \"year-month-day\" format, not a tuple. Used f-string to combine binary components.\n",
        "##Also added '-' to separate outputs to ensure proper formatting."
      ],
      "metadata": {
        "id": "ooJJzIB9tL-A"
      },
      "execution_count": null,
      "outputs": []
    },
    {
      "cell_type": "code",
      "source": [
        "#Fix 5: Moved input validation before processing\n",
        "\n",
        "#Draft Version\n",
        "return date.bin\n",
        "if len(date) != 10:\n",
        "  raise ValueError(\"Invalid date format\")\n",
        "\n",
        "#Correct Version\n",
        "if len(date) != 10:\n",
        "  raise ValueError(\"Invalid date format\")\n",
        "\n",
        "#Comment: Input length validation must occur before any processing."
      ],
      "metadata": {
        "id": "dPvdaUU7t0AC"
      },
      "execution_count": null,
      "outputs": []
    },
    {
      "cell_type": "code",
      "source": [
        "#Fix 6: Added check for proper '-' positions\n",
        "\n",
        "#Draft Version\n",
        "##No check in draft\n",
        "\n",
        "#Correct Version\n",
        "  if date [4] != '-' or date [7] != '-':\n",
        "    raise ValueError(\"Invalid date format\")\n",
        "\n",
        "#Comment: Ensures the input string is in 'yyyy-mm-dd' format."
      ],
      "metadata": {
        "id": "xa4XfNSJuVfB"
      },
      "execution_count": null,
      "outputs": []
    },
    {
      "cell_type": "code",
      "source": [
        "#Fix 7: Added range validation for year, month, and day\n",
        "\n",
        "#Draft Version\n",
        "##No validation in draft\n",
        "\n",
        "#Correct Version\n",
        "  if not (1900 <= year <= 2100):\n",
        "    raise ValueError (\"Year out of range\")\n",
        "  if not (1 <= month <=12):\n",
        "    raise ValueError (\"Month out of range\")\n",
        "  if not (1<=day<=31):\n",
        "    raise ValueError(\"Day out of range\")\n",
        "\n",
        "#Comment: Ensures date components are within valid Gregorian calendar ranges, as stated in problem constraints."
      ],
      "metadata": {
        "id": "18hN9W2Hu7Z3"
      },
      "execution_count": null,
      "outputs": []
    },
    {
      "cell_type": "code",
      "source": [
        "#Fix 8: Changed variable name from 'date' to 'parts' for split list\n",
        "\n",
        "#Draft Version\n",
        "date = date.split()\n",
        "\n",
        "#Correct Version\n",
        "parts = date.split('-')\n",
        "\n",
        "#Comment: Using 'date' for both the input string and the split list can cause confusion.\n",
        "##Renaming the split list to 'parts' improves readability and avoids variable shadowing."
      ],
      "metadata": {
        "id": "u0ThuSbDvbI5"
      },
      "execution_count": null,
      "outputs": []
    },
    {
      "cell_type": "markdown",
      "source": [
        "#Reflection on your Contribution\n",
        "\n",
        "1. ChatGPT helped me to understand how to remove the '0b' prefix when converting integers to binary.\n",
        "2. I implemented robust input checks for length, '-' positions, and valid year/month/day ranges, ensuring the function properly handles edge cases.\n",
        "3. I manually tested multiple examples including dates inside and outside constraints, verifying correct outputs and reinforcing my understanding of binary conversion logic."
      ],
      "metadata": {
        "id": "voewmldhiHYv"
      }
    },
    {
      "cell_type": "markdown",
      "source": [
        "---------------"
      ],
      "metadata": {
        "id": "3KHIrOkFTScw"
      }
    },
    {
      "cell_type": "markdown",
      "source": [
        "# Problems 3 (DSA): Number of 1 Bits\n",
        "\n",
        "------"
      ],
      "metadata": {
        "id": "CW2cb3O7S8Pn"
      }
    },
    {
      "cell_type": "markdown",
      "source": [
        "#Understanding and Breakdown\n",
        "\n",
        "Problem: Given a positive integer n, write a function that returns the number of set bits in its binary representation (also known as the Hamming weight)\n",
        "\n",
        "Input: Positive integer\n",
        "\n",
        "Output: Positive integer representing the number of set bits (1s) in the input binary string\n",
        "\n",
        "Constrints: 1 <= n <= 2^31 - 1\n",
        "\n",
        "Plan:\n",
        "1. Convert the integer (n) to binary using bin(n) and removing the '0b' prefix using slicing\n",
        "2. Count the set bits by iterating through the binary string\n",
        "3. Return the count\n"
      ],
      "metadata": {
        "id": "yoWLYTF4Dy5v"
      }
    },
    {
      "cell_type": "markdown",
      "source": [
        "\n",
        "- **How are you dealing with variable datatypes?**\n",
        "\n",
        "The input n is first checked to ensure it is an integer within the valid range. Once validated, the value is used directly in bitwise operations to count 1s. An integer variable is used for counting, and a binary string generated for reference. (no unnecessary conversions or float operations)\n",
        "\n",
        "- **Which types of operations are being used and what for?**\n",
        "\n",
        "  >- isinstance() and comparison operators to validate input\n",
        "  >- bin() to convert integers into binary string, with slicing [2:] to remove '0b' prefix\n",
        "  >- while loop combined with bitwise AND (n &= n-1) to efficiently remove the rightmost 1-bit in each iteration\n",
        "  >- increment (count += 1) to talls number of 1s\n",
        "\n",
        "- **Which Data collections (structures) are being used, and why? (compare to others, e.g. lists, dictionaries, sets, tuples, etc.)**\n",
        "\n",
        "An integer variable 'count' is used to keep track of 1s and the input integer n is manipulated directly with bitwise operations.\n",
        ">- No lists, sets, dictionaries, or tuples needed because task only requires processing of single string\n",
        "\n",
        "- **Compare to the other two problems: which ideas generalize? where do they differ?**\n",
        "\n",
        ">- Use abstraction and pattern recognition to find similarities\n",
        "\n",
        ">- Use problem decomposition and algorithmic thinking to identify differences in terms of the solution\n",
        "\n",
        "Like the previous two problems, thsi one involves converting integers to binary and breaking the problem into simpler steps. Similar to the sum problem, the bitwise operation AND (&) is used, unlike both problems however, it focuses on counting rather than returning the bitwise representation of an input, or performing arithmetic calculations."
      ],
      "metadata": {
        "id": "OHmXJok8yIPM"
      }
    },
    {
      "cell_type": "markdown",
      "source": [
        "#Peer Review and Draft Code\n",
        "\n",
        "I reviewed the following youtube video that covers the solution for the given Leetcode problem: https://youtu.be/5Km3utixwZs\n",
        ">- I learned that Brian Kernighan's algorithm efficiently counts the number of 1s by repeatedly clearing the least significant set bit using n = n & (n-1)\n",
        ">- The video helped me to visualize and understand how each step modifies the binary number."
      ],
      "metadata": {
        "id": "-yFYMiGhEx1r"
      }
    },
    {
      "cell_type": "code",
      "source": [
        "#Draft Code\n",
        "\n",
        "def hammingWeight(n):\n",
        "\n",
        "  binaryString = bin(n)[2:]\n",
        "  count = 0\n",
        "  for bit in binaryString:\n",
        "    if bit == '1':\n",
        "      count += 1\n",
        "  return count"
      ],
      "metadata": {
        "id": "mT9UAo_LEz6O"
      },
      "execution_count": 29,
      "outputs": []
    },
    {
      "cell_type": "markdown",
      "source": [
        "#Final Correct Code"
      ],
      "metadata": {
        "id": "vownBgS9Fdsx"
      }
    },
    {
      "cell_type": "code",
      "source": [
        "#Final Correct Code\n",
        "# [AI Disclaimer: Used ChatGPT with prompt \"Explain logic to count 1s in binary string\" to understand correct approach]\n",
        "\n",
        "def hammingWeight(n):\n",
        "  if not isinstance(n, int) or n<1 or n>2**31 - 1:\n",
        "    raise ValueError(\"Invalid input\")\n",
        "\n",
        "  binaryString = bin(n)[2:]\n",
        "  count = 0\n",
        "  while n:\n",
        "    n&=n-1\n",
        "    count += 1\n",
        "  return count"
      ],
      "metadata": {
        "id": "SB4ChpJfFfIG"
      },
      "execution_count": 53,
      "outputs": []
    },
    {
      "cell_type": "code",
      "source": [
        "#Test 1\n",
        "hammingWeight(11)"
      ],
      "metadata": {
        "colab": {
          "base_uri": "https://localhost:8080/"
        },
        "id": "u9ce36IXFx_T",
        "outputId": "cbc183e5-a33e-4af7-99d0-aa0faf0a09f6"
      },
      "execution_count": 54,
      "outputs": [
        {
          "output_type": "execute_result",
          "data": {
            "text/plain": [
              "3"
            ]
          },
          "metadata": {},
          "execution_count": 54
        }
      ]
    },
    {
      "cell_type": "code",
      "source": [
        "#Test 2\n",
        "hammingWeight(-34)"
      ],
      "metadata": {
        "colab": {
          "base_uri": "https://localhost:8080/",
          "height": 309
        },
        "id": "bPiepUCHF1kd",
        "outputId": "d49e1f22-077b-4c08-bbb9-01fd895b0336"
      },
      "execution_count": 55,
      "outputs": [
        {
          "output_type": "error",
          "ename": "ValueError",
          "evalue": "Invalid input",
          "traceback": [
            "\u001b[0;31m---------------------------------------------------------------------------\u001b[0m",
            "\u001b[0;31mValueError\u001b[0m                                Traceback (most recent call last)",
            "\u001b[0;32m/tmp/ipython-input-1404109361.py\u001b[0m in \u001b[0;36m<cell line: 0>\u001b[0;34m()\u001b[0m\n\u001b[1;32m      1\u001b[0m \u001b[0;31m#Test 2\u001b[0m\u001b[0;34m\u001b[0m\u001b[0;34m\u001b[0m\u001b[0m\n\u001b[0;32m----> 2\u001b[0;31m \u001b[0mhammingWeight\u001b[0m\u001b[0;34m(\u001b[0m\u001b[0;34m-\u001b[0m\u001b[0;36m34\u001b[0m\u001b[0;34m)\u001b[0m\u001b[0;34m\u001b[0m\u001b[0;34m\u001b[0m\u001b[0m\n\u001b[0m",
            "\u001b[0;32m/tmp/ipython-input-1504305619.py\u001b[0m in \u001b[0;36mhammingWeight\u001b[0;34m(n)\u001b[0m\n\u001b[1;32m      4\u001b[0m \u001b[0;32mdef\u001b[0m \u001b[0mhammingWeight\u001b[0m\u001b[0;34m(\u001b[0m\u001b[0mn\u001b[0m\u001b[0;34m)\u001b[0m\u001b[0;34m:\u001b[0m\u001b[0;34m\u001b[0m\u001b[0;34m\u001b[0m\u001b[0m\n\u001b[1;32m      5\u001b[0m   \u001b[0;32mif\u001b[0m \u001b[0;32mnot\u001b[0m \u001b[0misinstance\u001b[0m\u001b[0;34m(\u001b[0m\u001b[0mn\u001b[0m\u001b[0;34m,\u001b[0m \u001b[0mint\u001b[0m\u001b[0;34m)\u001b[0m \u001b[0;32mor\u001b[0m \u001b[0mn\u001b[0m\u001b[0;34m<\u001b[0m\u001b[0;36m1\u001b[0m \u001b[0;32mor\u001b[0m \u001b[0mn\u001b[0m\u001b[0;34m>\u001b[0m\u001b[0;36m2\u001b[0m\u001b[0;34m**\u001b[0m\u001b[0;36m31\u001b[0m \u001b[0;34m-\u001b[0m \u001b[0;36m1\u001b[0m\u001b[0;34m:\u001b[0m\u001b[0;34m\u001b[0m\u001b[0;34m\u001b[0m\u001b[0m\n\u001b[0;32m----> 6\u001b[0;31m     \u001b[0;32mraise\u001b[0m \u001b[0mValueError\u001b[0m\u001b[0;34m(\u001b[0m\u001b[0;34m\"Invalid input\"\u001b[0m\u001b[0;34m)\u001b[0m\u001b[0;34m\u001b[0m\u001b[0;34m\u001b[0m\u001b[0m\n\u001b[0m\u001b[1;32m      7\u001b[0m \u001b[0;34m\u001b[0m\u001b[0m\n\u001b[1;32m      8\u001b[0m   \u001b[0mbinaryString\u001b[0m \u001b[0;34m=\u001b[0m \u001b[0mbin\u001b[0m\u001b[0;34m(\u001b[0m\u001b[0mn\u001b[0m\u001b[0;34m)\u001b[0m\u001b[0;34m[\u001b[0m\u001b[0;36m2\u001b[0m\u001b[0;34m:\u001b[0m\u001b[0;34m]\u001b[0m\u001b[0;34m\u001b[0m\u001b[0;34m\u001b[0m\u001b[0m\n",
            "\u001b[0;31mValueError\u001b[0m: Invalid input"
          ]
        }
      ]
    },
    {
      "cell_type": "markdown",
      "source": [
        "#Review and Fixes"
      ],
      "metadata": {
        "id": "RokB6GLLF_sZ"
      }
    },
    {
      "cell_type": "code",
      "source": [
        "#Fix 1: Added input validation for constraints and type\n",
        "\n",
        "#Draft Version\n",
        "##No input validation\n",
        "\n",
        "#Correct Version\n",
        "if not isinstance(n, int) or n<1 or n>2**31 - 1:\n",
        "  raise ValueError(\"Invalid input\")\n",
        "\n",
        "#Comment: Added a check to ensure n is a positive integer within problem constraints."
      ],
      "metadata": {
        "id": "eSNlU-XhGBl_"
      },
      "execution_count": null,
      "outputs": []
    },
    {
      "cell_type": "code",
      "source": [
        "#Fix 2: Iteration Method\n",
        "\n",
        "#Draft Version (iterated over the binart string using a for loop)\n",
        "  for bit in binaryString:\n",
        "    if bit == '1':\n",
        "      count += 1\n",
        "\n",
        "#Correct Version (uses Brian Kernighan's algorithm)\n",
        "while n:\n",
        "  n &= n-1\n",
        "  count += 1\n",
        "\n",
        "#Comment: Uses Brian Kernighan's algorithm to count 1 bits.\n",
        "##Each iteration removes the rightmost 1-bit, improving both time and space efficiency over iterating through binary string."
      ],
      "metadata": {
        "id": "eWgmA8pQGcNZ"
      },
      "execution_count": null,
      "outputs": []
    },
    {
      "cell_type": "markdown",
      "source": [
        "#Reflection on your Contribution\n",
        "- Used ChatGPT to understand code logic for counting 1s in a binary string. All implementation was carried out manually.\n",
        "- I manually implemented input validation and checks for problem constraints, and corrected my draft code by implementing Brian Kernighan's algorithm.\n",
        "- I tested several cases, including a negative integer, to verify error handling and correctness."
      ],
      "metadata": {
        "id": "IAkOwIWNscPA"
      }
    },
    {
      "cell_type": "markdown",
      "source": [
        "------"
      ],
      "metadata": {
        "id": "rO2GcqUdTY9T"
      }
    },
    {
      "cell_type": "markdown",
      "source": [
        "# Problem 4 (Recursion): Reverse Integer\n",
        "--------"
      ],
      "metadata": {
        "id": "7tQQGx41S-Le"
      }
    },
    {
      "cell_type": "markdown",
      "source": [
        "#Understanding and Breakdown\n",
        "\n",
        "Problem: Given a signed 32-bit integer x, return x with its digits reversed.\n",
        "\n",
        "Input: Integer x (positive or negative) within range\n",
        "\n",
        "Output: Reversed Integer x\n",
        "\n",
        "Constraints: -2^31 <= x <= 2^31 - 1\n",
        "\n",
        "Plan:\n",
        "1. Start with the base case: if x==0, return 0 because there are no digits to reverse.\n",
        "2. Ensure x is within range of the problem constraints (-2^31 <= x <= 2^31 - 1); if not, return 0 to handle overflow.\n",
        "3. Check if x is negative and store the negative sign to allow reversal process to work with the absolute value.\n",
        "4. Define the helper function for recursion:\n",
        "- Take two parameters: the remaining x and the accumulated reversed number.\n",
        "5. Recursive step:\n",
        "- Extract the last digit of x using x%10\n",
        "- Multiply reversed_num by 10 and add the last digit.\n",
        "- Call helper recursively with x//10 until x=0."
      ],
      "metadata": {
        "id": "SE1Wo7LJIqwr"
      }
    },
    {
      "cell_type": "markdown",
      "source": [
        "What are the subproblems the recursive function should solve?\n",
        "- Each recursive call handles a smaller part of the number by removing the last digit.\n",
        "- The subproblem is to reverse the remaining digits.\n",
        "- Combining smaller identical subproblems produces the fully reversed integer.\n",
        "\n",
        "What the base case and recursive step should do?\n",
        "- The base case is when the integer becomes 0; at this point recursion stops.\n",
        "- The recursive step takes the last digit, reverses the remaining number, and adds the last digit in the correct reversed position.\n",
        "\n",
        "How the call stack will organize the recursive calls?\n",
        "- Each call waits on the call stack until the base case is reached. When the stack starts to unwind, each last digit is added back to build the reversed number. (ensures digits are added in the correct order)\n",
        "\n",
        "Whether to use head, tail, parameterized, and/or functional recursion, and why?\n",
        "- Tail and parameterized recursion (accumulating variable holds the reversed number)\n",
        "- Tail recursion works best because no work remains after the recursive call returns, and parameterization allows the recursion to build the solution incrementally.\n",
        "\n",
        "How are solutions to the subproblems to be combined?\n",
        "- Subproblems are combined numerically by multiplying the partially reversed number by 10 and adding the last digit. There is no separate merge step; each recursive return contributes directly to the final reversed integer.\n",
        "\n",
        "Compare to the other recursive problems (similarities/differences)\n",
        "- ...\n",
        "\n",
        "Compare to an iterative solution (e.g., how would a loop-based version differ?)\n",
        "- An iterative solution would use a loop to repeatedly extract the last digit and build the reversed integer using arithmetic operations.\n",
        "- Both achieve the same result but recursion uses the call stack to track process (more efficient).\n",
        "\n",
        "What needs to be changed for the recursive solution to become head/tail/parameterized/functional recursion?\n",
        "- Already tail and parameterized.\n",
        "- Head recursion: perform the recursive call before adding the current digit.\n",
        "- Functional recursion: return a new integer at each step instead of modifying an accumulator, building the final number from previous return values."
      ],
      "metadata": {
        "id": "4avizZe9Zv8K"
      }
    },
    {
      "cell_type": "markdown",
      "source": [
        "#Peer Review and Draft Code\n",
        "\n",
        "I reviewed the attached top solution on LeetCode: https://leetcode.com/problems/reverse-integer/solutions/6354708/elegant-python3-solution-with-detailed-explanation/\n",
        "- I learned that reversing an integer can be done by first converting the integer to a string and then using various approaches such as slicing or recursive arithmetic."
      ],
      "metadata": {
        "id": "7CH70yGzJ0Lm"
      }
    },
    {
      "cell_type": "code",
      "source": [
        "#Draft Code\n",
        "\n",
        "def reverseInt(x:int):\n",
        "  if x == 0:\n",
        "    return 0\n",
        "  if not -2**31 <= x <= 2**31 - 1:\n",
        "    return 0\n",
        "  else:\n",
        "  ans = int(str(x))[::-1]\n",
        "  return ans\n"
      ],
      "metadata": {
        "colab": {
          "base_uri": "https://localhost:8080/",
          "height": 122
        },
        "id": "A2c-SwFIJ21Q",
        "outputId": "06883a2b-1bd1-40b4-d9fd-2ecfcec1b009"
      },
      "execution_count": 33,
      "outputs": [
        {
          "output_type": "error",
          "ename": "IndentationError",
          "evalue": "expected an indented block after 'else' statement on line 8 (ipython-input-1860950449.py, line 9)",
          "traceback": [
            "\u001b[0;36m  File \u001b[0;32m\"/tmp/ipython-input-1860950449.py\"\u001b[0;36m, line \u001b[0;32m9\u001b[0m\n\u001b[0;31m    ans = int(str(x))[::-1]\u001b[0m\n\u001b[0m    ^\u001b[0m\n\u001b[0;31mIndentationError\u001b[0m\u001b[0;31m:\u001b[0m expected an indented block after 'else' statement on line 8\n"
          ]
        }
      ]
    },
    {
      "cell_type": "markdown",
      "source": [
        "#Final Correct Code"
      ],
      "metadata": {
        "id": "JDLbbSalK2oT"
      }
    },
    {
      "cell_type": "code",
      "source": [
        "#Final Correct Code\n",
        "# [AI Disclaimer: Explain recursive logic for reversing a signed 32-bit integer\" to understand recursion approach]\n",
        "##Error handling and recursive implementation done manually.\n",
        "def reverseInt(x: int):\n",
        "  def helper(x: int, reversed_num: int) -> int:\n",
        "    if x == 0:\n",
        "      return reversed_num\n",
        "\n",
        "    last_digit = x%10\n",
        "    new_reversed = reversed_num*10 + last_digit\n",
        "\n",
        "    if new_reversed < -2**31 or new_reversed > 2**31 - 1:\n",
        "      return 0\n",
        "\n",
        "    return helper(x // 10, new_reversed)\n",
        "\n",
        "  if x == 0:\n",
        "    return 0\n",
        "\n",
        "  sign = -1 if x<0 else 1\n",
        "  return sign * helper(abs(x),0)\n"
      ],
      "metadata": {
        "id": "9p1N4zglK4Rr"
      },
      "execution_count": 5,
      "outputs": []
    },
    {
      "cell_type": "code",
      "source": [
        "#Test 1:\n",
        "reverseInt(123)"
      ],
      "metadata": {
        "colab": {
          "base_uri": "https://localhost:8080/"
        },
        "id": "E3PGED5KLtKP",
        "outputId": "a3e54b46-3d20-4221-9c0b-76a81d48fe64"
      },
      "execution_count": 6,
      "outputs": [
        {
          "output_type": "execute_result",
          "data": {
            "text/plain": [
              "321"
            ]
          },
          "metadata": {},
          "execution_count": 6
        }
      ]
    },
    {
      "cell_type": "code",
      "source": [
        "#Test 2:\n",
        "reverseInt(-123)"
      ],
      "metadata": {
        "colab": {
          "base_uri": "https://localhost:8080/"
        },
        "id": "uOqDPVDgLxr4",
        "outputId": "62816af9-c3d1-4bf1-a2da-961f95ddf0e3"
      },
      "execution_count": 7,
      "outputs": [
        {
          "output_type": "execute_result",
          "data": {
            "text/plain": [
              "-321"
            ]
          },
          "metadata": {},
          "execution_count": 7
        }
      ]
    },
    {
      "cell_type": "code",
      "source": [
        "#Test 3:\n",
        "reverseInt(120)"
      ],
      "metadata": {
        "colab": {
          "base_uri": "https://localhost:8080/"
        },
        "id": "3zKPiOogL0bQ",
        "outputId": "b94ec0ac-b9e2-4ee0-eb30-f5d8c8683e16"
      },
      "execution_count": 8,
      "outputs": [
        {
          "output_type": "execute_result",
          "data": {
            "text/plain": [
              "21"
            ]
          },
          "metadata": {},
          "execution_count": 8
        }
      ]
    },
    {
      "cell_type": "markdown",
      "source": [
        "#Review and Fixes"
      ],
      "metadata": {
        "id": "VCSsTvcSLnrs"
      }
    },
    {
      "cell_type": "code",
      "source": [
        "#Fix 1: Removed string-based reversal\n",
        "\n",
        "#Draft Version\n",
        "ans = int(str(x))[::-1]\n",
        "\n",
        "#Correct Version\n",
        "##removed string manipulation entirely and replaced with numeric recursion.\n",
        "\n",
        "#Comment: Changed from string splicing to numberic recursion so function processes digits mathematically."
      ],
      "metadata": {
        "id": "TnXFs8TPLprw"
      },
      "execution_count": null,
      "outputs": []
    },
    {
      "cell_type": "code",
      "source": [
        "#Fix 2: Added helper function for recursion\n",
        "\n",
        "#Draft Version\n",
        "def reverseInt(x:int):\n",
        "\n",
        "#Correct Version\n",
        "def reverseInt(x: int):\n",
        "  def helper(x: int, reversed_num: int) -> int:\n",
        "\n",
        "#Comment: Introduced helper() to implement recursion with an accumulator (reversed_num) that builds the reversed integer step by step.\n"
      ],
      "metadata": {
        "id": "dDsYtCRbfkz5"
      },
      "execution_count": null,
      "outputs": []
    },
    {
      "cell_type": "code",
      "source": [
        "#Fix 3: Added base case\n",
        "\n",
        "#Draft Version\n",
        "#None\n",
        "\n",
        "#Correct Version\n",
        "if x == 0:\n",
        "  return reversed_num\n",
        "\n",
        "#Comment: Base case stops recursion when no digits left to process."
      ],
      "metadata": {
        "id": "2Gq6bNF5f_Hh"
      },
      "execution_count": null,
      "outputs": []
    },
    {
      "cell_type": "code",
      "source": [
        "#Fix 4: Added recursive step to process digits\n",
        "\n",
        "#Draft Version\n",
        "ans = int(str(x))[::-1]\n",
        "\n",
        "#Correct Version\n",
        "last_digit = x%10\n",
        "new_reversed = reversed_num*10 + last_digit\n",
        "\n",
        "if new_reversed < -2**31 or new_reversed > 2**31 - 1:\n",
        " return 0\n",
        "\n",
        "return helper(x // 10, new_reversed)\n",
        "\n",
        "#Comment: Extracts the last digit, appends it to the accumulated number, calls recursion on remaining digits."
      ],
      "metadata": {
        "id": "4oSODIjJgRvg"
      },
      "execution_count": null,
      "outputs": []
    },
    {
      "cell_type": "code",
      "source": [
        "#Fix 5: Added 32-bit overflow check inside recursion\n",
        "\n",
        "#Draft Version\n",
        "if not -2**31 <= x <= 2**31 - 1:\n",
        "  return 0\n",
        "\n",
        "#Correct Version\n",
        "if new_reversed < -2**31 or new_reversed > 2**31 - 1:\n",
        "  return 0\n",
        "\n",
        "#Comment: Handles overflow at every step, not just input."
      ],
      "metadata": {
        "id": "1HB6zjHkgywb"
      },
      "execution_count": null,
      "outputs": []
    },
    {
      "cell_type": "code",
      "source": [
        "#Fix 6: Handles negative numbers separately\n",
        "\n",
        "#Draft Version\n",
        "##No handling of negative integers (fully reverses input allowing for errors like '321-' from '-123')\n",
        "\n",
        "#Correct Version\n",
        "sign = -1 if x<0 else 1\n",
        "return sign * helper(abs(x),0)"
      ],
      "metadata": {
        "id": "o36ULTGChDON"
      },
      "execution_count": null,
      "outputs": []
    },
    {
      "cell_type": "markdown",
      "source": [
        "#Reflection on your Contribution\n",
        "- I used ChatGPT only to understand recursive logic, including use of helper functions and accumulator flow.\n",
        "- I manually implemented the base case, recusrive calls, sign handling, and overflow checks.\n",
        "- I tested and debugged all edge cases (negative numbers, zero, integers outside range) to ensure correctness."
      ],
      "metadata": {
        "id": "cbaLexXngxoZ"
      }
    },
    {
      "cell_type": "markdown",
      "source": [
        "------"
      ],
      "metadata": {
        "id": "oiP92F44TffW"
      }
    },
    {
      "cell_type": "markdown",
      "source": [
        "# Problem 5 (Recursion): Reverse String\n",
        "\n",
        "----"
      ],
      "metadata": {
        "id": "rM8MhcrjS_yF"
      }
    },
    {
      "cell_type": "markdown",
      "source": [
        "#Understanding and Breakdown\n",
        "\n",
        "Problem: Write a function that reverses a string of in place using recursion.\n",
        "\n",
        "Input: List of characters (not a normal string). Each element in the list is a single character.\n",
        "\n",
        "Output: The modified list with the characters in reverse order.\n",
        "\n",
        "Constraints:\n",
        "- 1 <= s.length <= 10^5\n",
        "- s[i] is a printable ascii character\n",
        "\n",
        "Plan:\n",
        "1. Start with two pointers - one at the beginning (left = 0) and one at the end (right = len(s) - 1)\n",
        "2. Swap the characters at those positions\n",
        "3. Move both pointers inward (left + 1, right - 1)\n",
        "4. Repeat recursively until the pointers meet in the middle\n",
        "5. Return the modified list, s"
      ],
      "metadata": {
        "id": "GBoMBSzphFGA"
      }
    },
    {
      "cell_type": "markdown",
      "source": [
        "What are the subproblems the recursive function should solve?\n",
        "- Each recursive call focuses on reversing a smaller section of the list by handling one pair of characters at a time\n",
        "- The subproblems are swapping the first and last elements, and to reverse the inner portion of the string (done in smaller, identical subproblems).\n",
        "\n",
        "What the base case and recursive step should do?\n",
        "- The base case  (left >= right)should stop the recursion once the two pointers meet or cross; when the string is fully reversed.\n",
        "\n",
        "How the call stack will organize the recursive calls?\n",
        "- Each recursive call is placed on the call stack until the base case is reached, then the calls return in reverse order.\n",
        "\n",
        "Whether to use head, tail, parameterized, and/or functional recursion, and why?\n",
        "- This problem uses tail recursion because the recursive call is the final action in the function. It's also parameterized, since the indices 'left' and 'right' track which part of the string is being reversed. It isn't functional because the function doesn't return a new value but modifies the input list directly.\n",
        "\n",
        "How are solutions to the subproblems to be combined?\n",
        "- The subproblems are combined automatically by the recursion itself: each recursive call swaps its pair of characters, and the next handles the inner substring until the base case is reached and all character pairs have been swapped.\n",
        "\n",
        "Compare to the other recursive problems (similarities/differences)\n",
        "...\n",
        "\n",
        "Compare to an iterative solutions (e.g., how would a loop-based version differ?)\n",
        "- An iterative solution would use a while or for loop with pointers to swap elements until they meet. (single function frame)\n",
        "- Whereas in recursion, each call handles one pair of elements and relies on the call stack to track left and right, so swaps are completed as the stack unwinds.\n",
        "\n",
        "What needs to be changed for the recursive solution to become head/tail/parameterized/functional recursion\n",
        "- Head recursion: Swap would happen after the recursive call rather than before\n",
        "- Tail recursion: Already implemented since the recursive call is the last operation\n",
        "- Parameterized recursion: Already implemented using left and right\n",
        "- Functional recursion: The function would need to return a new list instead of modifying the input in place, ex: concatenating the last character with the reversed inner substring"
      ],
      "metadata": {
        "id": "boBbEm9wr7HN"
      }
    },
    {
      "cell_type": "markdown",
      "source": [
        "#Peer Review & Draft Code\n",
        "\n",
        "I reviewed the attached top solution on LeetCode: https://leetcode.com/problems/reverse-string/solutions/6635496/master-the-in-place-swap-trick-to-reverse-any-string-efficiently/\n",
        "\n",
        "- I learned that you can reverse a string efficiently in place by using two pointers to swap elements from the ends toward the center."
      ],
      "metadata": {
        "id": "fQcqL_mshLT_"
      }
    },
    {
      "cell_type": "code",
      "source": [
        "#Draft Code\n",
        "\n",
        "def reverseString(s: list[]):\n",
        "  left = 0\n",
        "  right = len(s) - 1\n",
        "\n",
        "  if left >= right:\n",
        "    return s\n",
        "\n",
        "  while left < right:\n",
        "    temp = s[left]\n",
        "    s[left] = s[right]\n",
        "    s[right] = temp\n",
        "    left += 1\n",
        "    right -= 1\n",
        "\n",
        "  return\n",
        "\n",
        "\n",
        "\n"
      ],
      "metadata": {
        "colab": {
          "base_uri": "https://localhost:8080/",
          "height": 105
        },
        "id": "E0k0mgcUhN4M",
        "outputId": "8a06d4c4-80ee-494b-fabc-1ee4d59a72d8"
      },
      "execution_count": 49,
      "outputs": [
        {
          "output_type": "error",
          "ename": "SyntaxError",
          "evalue": "invalid syntax. Perhaps you forgot a comma? (ipython-input-1079926205.py, line 3)",
          "traceback": [
            "\u001b[0;36m  File \u001b[0;32m\"/tmp/ipython-input-1079926205.py\"\u001b[0;36m, line \u001b[0;32m3\u001b[0m\n\u001b[0;31m    def reverseString(s: list[]):\u001b[0m\n\u001b[0m                         ^\u001b[0m\n\u001b[0;31mSyntaxError\u001b[0m\u001b[0;31m:\u001b[0m invalid syntax. Perhaps you forgot a comma?\n"
          ]
        }
      ]
    },
    {
      "cell_type": "markdown",
      "source": [
        "#Final Correct Code"
      ],
      "metadata": {
        "id": "pgUI6YeYo8Fx"
      }
    },
    {
      "cell_type": "code",
      "source": [
        "#Correct Code\n",
        "# [AI Disclaimer: Explain only how to use left and right pointers in recursion for in-place string list reversal]\n",
        "\n",
        "def reverseString(s: list[str], left: int = 0, right: int = None) -> None:\n",
        "  if right is None:\n",
        "    right = len(s) - 1\n",
        "\n",
        "  if left >= right:\n",
        "    return\n",
        "\n",
        "  s[left], s[right] = s[right], s[left]\n",
        "\n",
        "  reverseString(s, left+1, right-1)\n",
        "\n",
        "  return s"
      ],
      "metadata": {
        "id": "4nXXjaHuo__k"
      },
      "execution_count": 43,
      "outputs": []
    },
    {
      "cell_type": "code",
      "source": [
        "#Test 1\n",
        "reverseString([\"h\",\"e\",\"l\",\"l\",\"o\"])"
      ],
      "metadata": {
        "colab": {
          "base_uri": "https://localhost:8080/"
        },
        "id": "hKa-ZfkRpvtD",
        "outputId": "6f0dbde4-8697-4567-c6f0-fcd853ed076e"
      },
      "execution_count": 44,
      "outputs": [
        {
          "output_type": "execute_result",
          "data": {
            "text/plain": [
              "['o', 'l', 'l', 'e', 'h']"
            ]
          },
          "metadata": {},
          "execution_count": 44
        }
      ]
    },
    {
      "cell_type": "code",
      "source": [
        "#Test 2\n",
        "reverseString([\"H\",\"a\",\"p\",\"p\",\"y\"])"
      ],
      "metadata": {
        "colab": {
          "base_uri": "https://localhost:8080/"
        },
        "id": "JdgZ1qqbpz47",
        "outputId": "42e996d1-f12c-47e5-e7e7-4591857d3408"
      },
      "execution_count": 45,
      "outputs": [
        {
          "output_type": "execute_result",
          "data": {
            "text/plain": [
              "['y', 'p', 'p', 'a', 'H']"
            ]
          },
          "metadata": {},
          "execution_count": 45
        }
      ]
    },
    {
      "cell_type": "code",
      "source": [
        "#Test 3\n",
        "reverseString([])"
      ],
      "metadata": {
        "id": "-dbXUrVyjc_v"
      },
      "execution_count": 47,
      "outputs": []
    },
    {
      "cell_type": "markdown",
      "source": [
        "#Review & Fixes"
      ],
      "metadata": {
        "id": "it-RWK83psoR"
      }
    },
    {
      "cell_type": "code",
      "source": [
        "#Fix 1: Corrected list type hint and syntax\n",
        "\n",
        "#Draft Version\n",
        "def reverseString(s: list[])\n",
        "\n",
        "#Correct Version\n",
        "def reverseString(s: list[str], left: int = 0, right: int = None) -> None:\n",
        "\n",
        "#Comment: added 'str' to specify the element type of the list.\n",
        "##Added '-> None' since the function modifies the list in-place instead of returning it."
      ],
      "metadata": {
        "id": "SMObJU0eqH6M"
      },
      "execution_count": null,
      "outputs": []
    },
    {
      "cell_type": "code",
      "source": [
        "#Fix 2: Change function signature to support recursion with pointers\n",
        "\n",
        "#Draft Version\n",
        "def reverseString(s: list[])\n",
        "\n",
        "#Correct Version\n",
        "def reverseString(s: list[str], left: int = 0, right: int = None) -> None:\n",
        "\n",
        "#Comment: Added left and right parameters for recursion within function definiton."
      ],
      "metadata": {
        "id": "Tfkka_M1qhwH"
      },
      "execution_count": null,
      "outputs": []
    },
    {
      "cell_type": "code",
      "source": [
        "#Fix 3: Remove the while loop to replace with recursion\n",
        "\n",
        "#Draft Version\n",
        "\n",
        "def reverseString(s: list[])\n",
        "  left = 0\n",
        "  right = len(s) - 1\n",
        "\n",
        "  if left >= right:\n",
        "    return s\n",
        "\n",
        "  while left < right:\n",
        "    temp = s[left]\n",
        "    s[left] = s[right]\n",
        "    s[right] = temp\n",
        "    left += 1\n",
        "    right -= 1\n",
        "\n",
        "  return\n",
        "\n",
        "#Correct Version\n",
        "\n",
        "def reverseString(s: list[str], left: int = 0, right: int = None) -> None:\n",
        "  if right is None:\n",
        "    right = len(s) - 1\n",
        "\n",
        "  if left >= right:\n",
        "    return\n",
        "\n",
        "  s[left], s[right] = s[right], s[left]\n",
        "\n",
        "  reverseString(s, left+1, right-1)\n",
        "\n",
        "  return s\n",
        "\n",
        "#Comment: Removed the iterative loop; added base and recursive cases to swap elements and recursively call on the inner substring."
      ],
      "metadata": {
        "id": "tBI0tr0rqz3N"
      },
      "execution_count": null,
      "outputs": []
    },
    {
      "cell_type": "code",
      "source": [
        "#Fix 4: Initialize 'right' once\n",
        "\n",
        "#Draft Version\n",
        "left = 0\n",
        "right = len(s) - 1\n",
        "\n",
        "#Correct Version\n",
        "if right is None:\n",
        "    right = len(s) - 1\n",
        "\n",
        "#Comment: Initializes right only on the first call, ensures recursion correctly moves left foreward and right backward until meeting."
      ],
      "metadata": {
        "id": "QJcMFizRnv0V"
      },
      "execution_count": null,
      "outputs": []
    },
    {
      "cell_type": "markdown",
      "source": [
        "#Reflection on your Contribution\n",
        "- I used ChatGPT only to understand recursive logic, specifically how to use left and right pointers to reverse a list in place.\n",
        "- I manually implemented the base case, recursive calls, and swapping of elements to modify the list correctly.\n",
        "- I tested and debugged various cases including an empty list to ensure correctness and error handling."
      ],
      "metadata": {
        "id": "0SzXfJJFrxaF"
      }
    },
    {
      "cell_type": "markdown",
      "source": [
        "------"
      ],
      "metadata": {
        "id": "Z2sT8zHjTivY"
      }
    },
    {
      "cell_type": "markdown",
      "metadata": {
        "id": "YR8usq_lVloZ"
      },
      "source": [
        "# **The most important part of writing code is not the code itself, but the thinking that leads to it. Thank You 😀**"
      ]
    }
  ],
  "metadata": {
    "colab": {
      "provenance": [],
      "include_colab_link": true
    },
    "kernelspec": {
      "display_name": "Python 3",
      "name": "python3"
    },
    "language_info": {
      "name": "python"
    },
    "title": "CISC 121 – Assignment 2"
  },
  "nbformat": 4,
  "nbformat_minor": 0
}